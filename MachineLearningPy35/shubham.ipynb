{
 "cells": [
  {
   "cell_type": "code",
   "execution_count": 1,
   "metadata": {
    "collapsed": true
   },
   "outputs": [],
   "source": [
    "import pandas as pd\n",
    "\n",
    "df = pd.read_json('/home/shubham/petasense_data/measurement_data_37_L2_x_acceleration.json')"
   ]
  },
  {
   "cell_type": "code",
   "execution_count": 2,
   "metadata": {
    "collapsed": false
   },
   "outputs": [
    {
     "data": {
      "text/html": [
       "<div>\n",
       "<table border=\"1\" class=\"dataframe\">\n",
       "  <thead>\n",
       "    <tr style=\"text-align: right;\">\n",
       "      <th></th>\n",
       "      <th>location_id</th>\n",
       "      <th>location_name</th>\n",
       "      <th>machine_name</th>\n",
       "      <th>measurements</th>\n",
       "    </tr>\n",
       "  </thead>\n",
       "  <tbody>\n",
       "    <tr>\n",
       "      <th>0</th>\n",
       "      <td>128</td>\n",
       "      <td>L2</td>\n",
       "      <td>Water Injection Pump - 1A</td>\n",
       "      <td>{u'sampling_size': 8192, u'timestamp': u'2016-...</td>\n",
       "    </tr>\n",
       "    <tr>\n",
       "      <th>1</th>\n",
       "      <td>128</td>\n",
       "      <td>L2</td>\n",
       "      <td>Water Injection Pump - 1A</td>\n",
       "      <td>{u'sampling_size': 8192, u'timestamp': u'2016-...</td>\n",
       "    </tr>\n",
       "    <tr>\n",
       "      <th>2</th>\n",
       "      <td>128</td>\n",
       "      <td>L2</td>\n",
       "      <td>Water Injection Pump - 1A</td>\n",
       "      <td>{u'sampling_size': 8192, u'timestamp': u'2016-...</td>\n",
       "    </tr>\n",
       "    <tr>\n",
       "      <th>3</th>\n",
       "      <td>128</td>\n",
       "      <td>L2</td>\n",
       "      <td>Water Injection Pump - 1A</td>\n",
       "      <td>{u'sampling_size': 8192, u'timestamp': u'2016-...</td>\n",
       "    </tr>\n",
       "    <tr>\n",
       "      <th>4</th>\n",
       "      <td>128</td>\n",
       "      <td>L2</td>\n",
       "      <td>Water Injection Pump - 1A</td>\n",
       "      <td>{u'sampling_size': 8192, u'timestamp': u'2016-...</td>\n",
       "    </tr>\n",
       "  </tbody>\n",
       "</table>\n",
       "</div>"
      ],
      "text/plain": [
       "   location_id location_name               machine_name  \\\n",
       "0          128            L2  Water Injection Pump - 1A   \n",
       "1          128            L2  Water Injection Pump - 1A   \n",
       "2          128            L2  Water Injection Pump - 1A   \n",
       "3          128            L2  Water Injection Pump - 1A   \n",
       "4          128            L2  Water Injection Pump - 1A   \n",
       "\n",
       "                                        measurements  \n",
       "0  {u'sampling_size': 8192, u'timestamp': u'2016-...  \n",
       "1  {u'sampling_size': 8192, u'timestamp': u'2016-...  \n",
       "2  {u'sampling_size': 8192, u'timestamp': u'2016-...  \n",
       "3  {u'sampling_size': 8192, u'timestamp': u'2016-...  \n",
       "4  {u'sampling_size': 8192, u'timestamp': u'2016-...  "
      ]
     },
     "execution_count": 2,
     "metadata": {},
     "output_type": "execute_result"
    }
   ],
   "source": [
    "df.head()"
   ]
  },
  {
   "cell_type": "code",
   "execution_count": 3,
   "metadata": {
    "collapsed": false
   },
   "outputs": [],
   "source": [
    "df['time_domain'] = df['measurements'].map(lambda v:v['data']['time_domain'])"
   ]
  },
  {
   "cell_type": "code",
   "execution_count": 4,
   "metadata": {
    "collapsed": false
   },
   "outputs": [
    {
     "data": {
      "text/html": [
       "<div>\n",
       "<table border=\"1\" class=\"dataframe\">\n",
       "  <thead>\n",
       "    <tr style=\"text-align: right;\">\n",
       "      <th></th>\n",
       "      <th>location_id</th>\n",
       "      <th>location_name</th>\n",
       "      <th>machine_name</th>\n",
       "      <th>measurements</th>\n",
       "      <th>time_domain</th>\n",
       "    </tr>\n",
       "  </thead>\n",
       "  <tbody>\n",
       "    <tr>\n",
       "      <th>0</th>\n",
       "      <td>128</td>\n",
       "      <td>L2</td>\n",
       "      <td>Water Injection Pump - 1A</td>\n",
       "      <td>{u'sampling_size': 8192, u'timestamp': u'2016-...</td>\n",
       "      <td>[0.0955108190244, 0.142378048945, 0.0320730141...</td>\n",
       "    </tr>\n",
       "    <tr>\n",
       "      <th>1</th>\n",
       "      <td>128</td>\n",
       "      <td>L2</td>\n",
       "      <td>Water Injection Pump - 1A</td>\n",
       "      <td>{u'sampling_size': 8192, u'timestamp': u'2016-...</td>\n",
       "      <td>[0.0152892355027, 0.0409164900223, -8.54867669...</td>\n",
       "    </tr>\n",
       "    <tr>\n",
       "      <th>2</th>\n",
       "      <td>128</td>\n",
       "      <td>L2</td>\n",
       "      <td>Water Injection Pump - 1A</td>\n",
       "      <td>{u'sampling_size': 8192, u'timestamp': u'2016-...</td>\n",
       "      <td>[-0.0377654335053, 0.272838970081, 0.215688720...</td>\n",
       "    </tr>\n",
       "    <tr>\n",
       "      <th>3</th>\n",
       "      <td>128</td>\n",
       "      <td>L2</td>\n",
       "      <td>Water Injection Pump - 1A</td>\n",
       "      <td>{u'sampling_size': 8192, u'timestamp': u'2016-...</td>\n",
       "      <td>[0.193336548881, 0.053697712511, 0.01051361225...</td>\n",
       "    </tr>\n",
       "    <tr>\n",
       "      <th>4</th>\n",
       "      <td>128</td>\n",
       "      <td>L2</td>\n",
       "      <td>Water Injection Pump - 1A</td>\n",
       "      <td>{u'sampling_size': 8192, u'timestamp': u'2016-...</td>\n",
       "      <td>[-0.0843585196817, 0.0716561945188, 0.02896771...</td>\n",
       "    </tr>\n",
       "  </tbody>\n",
       "</table>\n",
       "</div>"
      ],
      "text/plain": [
       "   location_id location_name               machine_name  \\\n",
       "0          128            L2  Water Injection Pump - 1A   \n",
       "1          128            L2  Water Injection Pump - 1A   \n",
       "2          128            L2  Water Injection Pump - 1A   \n",
       "3          128            L2  Water Injection Pump - 1A   \n",
       "4          128            L2  Water Injection Pump - 1A   \n",
       "\n",
       "                                        measurements  \\\n",
       "0  {u'sampling_size': 8192, u'timestamp': u'2016-...   \n",
       "1  {u'sampling_size': 8192, u'timestamp': u'2016-...   \n",
       "2  {u'sampling_size': 8192, u'timestamp': u'2016-...   \n",
       "3  {u'sampling_size': 8192, u'timestamp': u'2016-...   \n",
       "4  {u'sampling_size': 8192, u'timestamp': u'2016-...   \n",
       "\n",
       "                                         time_domain  \n",
       "0  [0.0955108190244, 0.142378048945, 0.0320730141...  \n",
       "1  [0.0152892355027, 0.0409164900223, -8.54867669...  \n",
       "2  [-0.0377654335053, 0.272838970081, 0.215688720...  \n",
       "3  [0.193336548881, 0.053697712511, 0.01051361225...  \n",
       "4  [-0.0843585196817, 0.0716561945188, 0.02896771...  "
      ]
     },
     "execution_count": 4,
     "metadata": {},
     "output_type": "execute_result"
    }
   ],
   "source": [
    "df.head()"
   ]
  },
  {
   "cell_type": "code",
   "execution_count": 5,
   "metadata": {
    "collapsed": false
   },
   "outputs": [],
   "source": [
    "df['peak'] = df['time_domain'].map(lambda x: abs(max(x, key = abs)))"
   ]
  },
  {
   "cell_type": "code",
   "execution_count": 6,
   "metadata": {
    "collapsed": false
   },
   "outputs": [
    {
     "data": {
      "text/html": [
       "<div>\n",
       "<table border=\"1\" class=\"dataframe\">\n",
       "  <thead>\n",
       "    <tr style=\"text-align: right;\">\n",
       "      <th></th>\n",
       "      <th>location_id</th>\n",
       "      <th>location_name</th>\n",
       "      <th>machine_name</th>\n",
       "      <th>measurements</th>\n",
       "      <th>time_domain</th>\n",
       "      <th>peak</th>\n",
       "    </tr>\n",
       "  </thead>\n",
       "  <tbody>\n",
       "    <tr>\n",
       "      <th>0</th>\n",
       "      <td>128</td>\n",
       "      <td>L2</td>\n",
       "      <td>Water Injection Pump - 1A</td>\n",
       "      <td>{u'sampling_size': 8192, u'timestamp': u'2016-...</td>\n",
       "      <td>[0.0955108190244, 0.142378048945, 0.0320730141...</td>\n",
       "      <td>0.641561</td>\n",
       "    </tr>\n",
       "    <tr>\n",
       "      <th>1</th>\n",
       "      <td>128</td>\n",
       "      <td>L2</td>\n",
       "      <td>Water Injection Pump - 1A</td>\n",
       "      <td>{u'sampling_size': 8192, u'timestamp': u'2016-...</td>\n",
       "      <td>[0.0152892355027, 0.0409164900223, -8.54867669...</td>\n",
       "      <td>0.587924</td>\n",
       "    </tr>\n",
       "    <tr>\n",
       "      <th>2</th>\n",
       "      <td>128</td>\n",
       "      <td>L2</td>\n",
       "      <td>Water Injection Pump - 1A</td>\n",
       "      <td>{u'sampling_size': 8192, u'timestamp': u'2016-...</td>\n",
       "      <td>[-0.0377654335053, 0.272838970081, 0.215688720...</td>\n",
       "      <td>0.512187</td>\n",
       "    </tr>\n",
       "    <tr>\n",
       "      <th>3</th>\n",
       "      <td>128</td>\n",
       "      <td>L2</td>\n",
       "      <td>Water Injection Pump - 1A</td>\n",
       "      <td>{u'sampling_size': 8192, u'timestamp': u'2016-...</td>\n",
       "      <td>[0.193336548881, 0.053697712511, 0.01051361225...</td>\n",
       "      <td>0.776067</td>\n",
       "    </tr>\n",
       "    <tr>\n",
       "      <th>4</th>\n",
       "      <td>128</td>\n",
       "      <td>L2</td>\n",
       "      <td>Water Injection Pump - 1A</td>\n",
       "      <td>{u'sampling_size': 8192, u'timestamp': u'2016-...</td>\n",
       "      <td>[-0.0843585196817, 0.0716561945188, 0.02896771...</td>\n",
       "      <td>0.789510</td>\n",
       "    </tr>\n",
       "  </tbody>\n",
       "</table>\n",
       "</div>"
      ],
      "text/plain": [
       "   location_id location_name               machine_name  \\\n",
       "0          128            L2  Water Injection Pump - 1A   \n",
       "1          128            L2  Water Injection Pump - 1A   \n",
       "2          128            L2  Water Injection Pump - 1A   \n",
       "3          128            L2  Water Injection Pump - 1A   \n",
       "4          128            L2  Water Injection Pump - 1A   \n",
       "\n",
       "                                        measurements  \\\n",
       "0  {u'sampling_size': 8192, u'timestamp': u'2016-...   \n",
       "1  {u'sampling_size': 8192, u'timestamp': u'2016-...   \n",
       "2  {u'sampling_size': 8192, u'timestamp': u'2016-...   \n",
       "3  {u'sampling_size': 8192, u'timestamp': u'2016-...   \n",
       "4  {u'sampling_size': 8192, u'timestamp': u'2016-...   \n",
       "\n",
       "                                         time_domain      peak  \n",
       "0  [0.0955108190244, 0.142378048945, 0.0320730141...  0.641561  \n",
       "1  [0.0152892355027, 0.0409164900223, -8.54867669...  0.587924  \n",
       "2  [-0.0377654335053, 0.272838970081, 0.215688720...  0.512187  \n",
       "3  [0.193336548881, 0.053697712511, 0.01051361225...  0.776067  \n",
       "4  [-0.0843585196817, 0.0716561945188, 0.02896771...  0.789510  "
      ]
     },
     "execution_count": 6,
     "metadata": {},
     "output_type": "execute_result"
    }
   ],
   "source": [
    "df.head()"
   ]
  },
  {
   "cell_type": "code",
   "execution_count": 7,
   "metadata": {
    "collapsed": false
   },
   "outputs": [],
   "source": [
    "def square(list):\n",
    "    return [i**2 for i in list]"
   ]
  },
  {
   "cell_type": "code",
   "execution_count": 9,
   "metadata": {
    "collapsed": false
   },
   "outputs": [],
   "source": [
    "import numpy as np\n",
    "df['rms'] = np.nan"
   ]
  },
  {
   "cell_type": "code",
   "execution_count": 11,
   "metadata": {
    "collapsed": false
   },
   "outputs": [],
   "source": [
    "from math import *\n",
    "df['rms'] = df['time_domain'].map(lambda x: sqrt(np.mean(square(x))))"
   ]
  },
  {
   "cell_type": "code",
   "execution_count": 12,
   "metadata": {
    "collapsed": false
   },
   "outputs": [
    {
     "data": {
      "text/html": [
       "<div>\n",
       "<table border=\"1\" class=\"dataframe\">\n",
       "  <thead>\n",
       "    <tr style=\"text-align: right;\">\n",
       "      <th></th>\n",
       "      <th>location_id</th>\n",
       "      <th>location_name</th>\n",
       "      <th>machine_name</th>\n",
       "      <th>measurements</th>\n",
       "      <th>time_domain</th>\n",
       "      <th>peak</th>\n",
       "      <th>rms</th>\n",
       "    </tr>\n",
       "  </thead>\n",
       "  <tbody>\n",
       "    <tr>\n",
       "      <th>0</th>\n",
       "      <td>128</td>\n",
       "      <td>L2</td>\n",
       "      <td>Water Injection Pump - 1A</td>\n",
       "      <td>{u'sampling_size': 8192, u'timestamp': u'2016-...</td>\n",
       "      <td>[0.0955108190244, 0.142378048945, 0.0320730141...</td>\n",
       "      <td>0.641561</td>\n",
       "      <td>0.171748</td>\n",
       "    </tr>\n",
       "    <tr>\n",
       "      <th>1</th>\n",
       "      <td>128</td>\n",
       "      <td>L2</td>\n",
       "      <td>Water Injection Pump - 1A</td>\n",
       "      <td>{u'sampling_size': 8192, u'timestamp': u'2016-...</td>\n",
       "      <td>[0.0152892355027, 0.0409164900223, -8.54867669...</td>\n",
       "      <td>0.587924</td>\n",
       "      <td>0.151245</td>\n",
       "    </tr>\n",
       "    <tr>\n",
       "      <th>2</th>\n",
       "      <td>128</td>\n",
       "      <td>L2</td>\n",
       "      <td>Water Injection Pump - 1A</td>\n",
       "      <td>{u'sampling_size': 8192, u'timestamp': u'2016-...</td>\n",
       "      <td>[-0.0377654335053, 0.272838970081, 0.215688720...</td>\n",
       "      <td>0.512187</td>\n",
       "      <td>0.157736</td>\n",
       "    </tr>\n",
       "    <tr>\n",
       "      <th>3</th>\n",
       "      <td>128</td>\n",
       "      <td>L2</td>\n",
       "      <td>Water Injection Pump - 1A</td>\n",
       "      <td>{u'sampling_size': 8192, u'timestamp': u'2016-...</td>\n",
       "      <td>[0.193336548881, 0.053697712511, 0.01051361225...</td>\n",
       "      <td>0.776067</td>\n",
       "      <td>0.178330</td>\n",
       "    </tr>\n",
       "    <tr>\n",
       "      <th>4</th>\n",
       "      <td>128</td>\n",
       "      <td>L2</td>\n",
       "      <td>Water Injection Pump - 1A</td>\n",
       "      <td>{u'sampling_size': 8192, u'timestamp': u'2016-...</td>\n",
       "      <td>[-0.0843585196817, 0.0716561945188, 0.02896771...</td>\n",
       "      <td>0.789510</td>\n",
       "      <td>0.181860</td>\n",
       "    </tr>\n",
       "  </tbody>\n",
       "</table>\n",
       "</div>"
      ],
      "text/plain": [
       "   location_id location_name               machine_name  \\\n",
       "0          128            L2  Water Injection Pump - 1A   \n",
       "1          128            L2  Water Injection Pump - 1A   \n",
       "2          128            L2  Water Injection Pump - 1A   \n",
       "3          128            L2  Water Injection Pump - 1A   \n",
       "4          128            L2  Water Injection Pump - 1A   \n",
       "\n",
       "                                        measurements  \\\n",
       "0  {u'sampling_size': 8192, u'timestamp': u'2016-...   \n",
       "1  {u'sampling_size': 8192, u'timestamp': u'2016-...   \n",
       "2  {u'sampling_size': 8192, u'timestamp': u'2016-...   \n",
       "3  {u'sampling_size': 8192, u'timestamp': u'2016-...   \n",
       "4  {u'sampling_size': 8192, u'timestamp': u'2016-...   \n",
       "\n",
       "                                         time_domain      peak       rms  \n",
       "0  [0.0955108190244, 0.142378048945, 0.0320730141...  0.641561  0.171748  \n",
       "1  [0.0152892355027, 0.0409164900223, -8.54867669...  0.587924  0.151245  \n",
       "2  [-0.0377654335053, 0.272838970081, 0.215688720...  0.512187  0.157736  \n",
       "3  [0.193336548881, 0.053697712511, 0.01051361225...  0.776067  0.178330  \n",
       "4  [-0.0843585196817, 0.0716561945188, 0.02896771...  0.789510  0.181860  "
      ]
     },
     "execution_count": 12,
     "metadata": {},
     "output_type": "execute_result"
    }
   ],
   "source": [
    "df.head()"
   ]
  },
  {
   "cell_type": "code",
   "execution_count": 13,
   "metadata": {
    "collapsed": true
   },
   "outputs": [],
   "source": [
    "df['crest_factor'] = df['peak']/df['rms']"
   ]
  },
  {
   "cell_type": "code",
   "execution_count": 14,
   "metadata": {
    "collapsed": false
   },
   "outputs": [
    {
     "data": {
      "text/html": [
       "<div>\n",
       "<table border=\"1\" class=\"dataframe\">\n",
       "  <thead>\n",
       "    <tr style=\"text-align: right;\">\n",
       "      <th></th>\n",
       "      <th>location_id</th>\n",
       "      <th>location_name</th>\n",
       "      <th>machine_name</th>\n",
       "      <th>measurements</th>\n",
       "      <th>time_domain</th>\n",
       "      <th>peak</th>\n",
       "      <th>rms</th>\n",
       "      <th>crest_factor</th>\n",
       "    </tr>\n",
       "  </thead>\n",
       "  <tbody>\n",
       "    <tr>\n",
       "      <th>0</th>\n",
       "      <td>128</td>\n",
       "      <td>L2</td>\n",
       "      <td>Water Injection Pump - 1A</td>\n",
       "      <td>{u'sampling_size': 8192, u'timestamp': u'2016-...</td>\n",
       "      <td>[0.0955108190244, 0.142378048945, 0.0320730141...</td>\n",
       "      <td>0.641561</td>\n",
       "      <td>0.171748</td>\n",
       "      <td>3.735475</td>\n",
       "    </tr>\n",
       "    <tr>\n",
       "      <th>1</th>\n",
       "      <td>128</td>\n",
       "      <td>L2</td>\n",
       "      <td>Water Injection Pump - 1A</td>\n",
       "      <td>{u'sampling_size': 8192, u'timestamp': u'2016-...</td>\n",
       "      <td>[0.0152892355027, 0.0409164900223, -8.54867669...</td>\n",
       "      <td>0.587924</td>\n",
       "      <td>0.151245</td>\n",
       "      <td>3.887226</td>\n",
       "    </tr>\n",
       "    <tr>\n",
       "      <th>2</th>\n",
       "      <td>128</td>\n",
       "      <td>L2</td>\n",
       "      <td>Water Injection Pump - 1A</td>\n",
       "      <td>{u'sampling_size': 8192, u'timestamp': u'2016-...</td>\n",
       "      <td>[-0.0377654335053, 0.272838970081, 0.215688720...</td>\n",
       "      <td>0.512187</td>\n",
       "      <td>0.157736</td>\n",
       "      <td>3.247112</td>\n",
       "    </tr>\n",
       "    <tr>\n",
       "      <th>3</th>\n",
       "      <td>128</td>\n",
       "      <td>L2</td>\n",
       "      <td>Water Injection Pump - 1A</td>\n",
       "      <td>{u'sampling_size': 8192, u'timestamp': u'2016-...</td>\n",
       "      <td>[0.193336548881, 0.053697712511, 0.01051361225...</td>\n",
       "      <td>0.776067</td>\n",
       "      <td>0.178330</td>\n",
       "      <td>4.351854</td>\n",
       "    </tr>\n",
       "    <tr>\n",
       "      <th>4</th>\n",
       "      <td>128</td>\n",
       "      <td>L2</td>\n",
       "      <td>Water Injection Pump - 1A</td>\n",
       "      <td>{u'sampling_size': 8192, u'timestamp': u'2016-...</td>\n",
       "      <td>[-0.0843585196817, 0.0716561945188, 0.02896771...</td>\n",
       "      <td>0.789510</td>\n",
       "      <td>0.181860</td>\n",
       "      <td>4.341312</td>\n",
       "    </tr>\n",
       "  </tbody>\n",
       "</table>\n",
       "</div>"
      ],
      "text/plain": [
       "   location_id location_name               machine_name  \\\n",
       "0          128            L2  Water Injection Pump - 1A   \n",
       "1          128            L2  Water Injection Pump - 1A   \n",
       "2          128            L2  Water Injection Pump - 1A   \n",
       "3          128            L2  Water Injection Pump - 1A   \n",
       "4          128            L2  Water Injection Pump - 1A   \n",
       "\n",
       "                                        measurements  \\\n",
       "0  {u'sampling_size': 8192, u'timestamp': u'2016-...   \n",
       "1  {u'sampling_size': 8192, u'timestamp': u'2016-...   \n",
       "2  {u'sampling_size': 8192, u'timestamp': u'2016-...   \n",
       "3  {u'sampling_size': 8192, u'timestamp': u'2016-...   \n",
       "4  {u'sampling_size': 8192, u'timestamp': u'2016-...   \n",
       "\n",
       "                                         time_domain      peak       rms  \\\n",
       "0  [0.0955108190244, 0.142378048945, 0.0320730141...  0.641561  0.171748   \n",
       "1  [0.0152892355027, 0.0409164900223, -8.54867669...  0.587924  0.151245   \n",
       "2  [-0.0377654335053, 0.272838970081, 0.215688720...  0.512187  0.157736   \n",
       "3  [0.193336548881, 0.053697712511, 0.01051361225...  0.776067  0.178330   \n",
       "4  [-0.0843585196817, 0.0716561945188, 0.02896771...  0.789510  0.181860   \n",
       "\n",
       "   crest_factor  \n",
       "0      3.735475  \n",
       "1      3.887226  \n",
       "2      3.247112  \n",
       "3      4.351854  \n",
       "4      4.341312  "
      ]
     },
     "execution_count": 14,
     "metadata": {},
     "output_type": "execute_result"
    }
   ],
   "source": [
    "df.head()"
   ]
  },
  {
   "cell_type": "code",
   "execution_count": 15,
   "metadata": {
    "collapsed": true
   },
   "outputs": [],
   "source": [
    "df['p2p'] = df['time_domain'].map(lambda x: max(x) - min(x))"
   ]
  },
  {
   "cell_type": "code",
   "execution_count": 16,
   "metadata": {
    "collapsed": false
   },
   "outputs": [
    {
     "data": {
      "text/html": [
       "<div>\n",
       "<table border=\"1\" class=\"dataframe\">\n",
       "  <thead>\n",
       "    <tr style=\"text-align: right;\">\n",
       "      <th></th>\n",
       "      <th>location_id</th>\n",
       "      <th>location_name</th>\n",
       "      <th>machine_name</th>\n",
       "      <th>measurements</th>\n",
       "      <th>time_domain</th>\n",
       "      <th>peak</th>\n",
       "      <th>rms</th>\n",
       "      <th>crest_factor</th>\n",
       "      <th>p2p</th>\n",
       "    </tr>\n",
       "  </thead>\n",
       "  <tbody>\n",
       "    <tr>\n",
       "      <th>0</th>\n",
       "      <td>128</td>\n",
       "      <td>L2</td>\n",
       "      <td>Water Injection Pump - 1A</td>\n",
       "      <td>{u'sampling_size': 8192, u'timestamp': u'2016-...</td>\n",
       "      <td>[0.0955108190244, 0.142378048945, 0.0320730141...</td>\n",
       "      <td>0.641561</td>\n",
       "      <td>0.171748</td>\n",
       "      <td>3.735475</td>\n",
       "      <td>1.278770</td>\n",
       "    </tr>\n",
       "    <tr>\n",
       "      <th>1</th>\n",
       "      <td>128</td>\n",
       "      <td>L2</td>\n",
       "      <td>Water Injection Pump - 1A</td>\n",
       "      <td>{u'sampling_size': 8192, u'timestamp': u'2016-...</td>\n",
       "      <td>[0.0152892355027, 0.0409164900223, -8.54867669...</td>\n",
       "      <td>0.587924</td>\n",
       "      <td>0.151245</td>\n",
       "      <td>3.887226</td>\n",
       "      <td>1.091752</td>\n",
       "    </tr>\n",
       "    <tr>\n",
       "      <th>2</th>\n",
       "      <td>128</td>\n",
       "      <td>L2</td>\n",
       "      <td>Water Injection Pump - 1A</td>\n",
       "      <td>{u'sampling_size': 8192, u'timestamp': u'2016-...</td>\n",
       "      <td>[-0.0377654335053, 0.272838970081, 0.215688720...</td>\n",
       "      <td>0.512187</td>\n",
       "      <td>0.157736</td>\n",
       "      <td>3.247112</td>\n",
       "      <td>1.001194</td>\n",
       "    </tr>\n",
       "    <tr>\n",
       "      <th>3</th>\n",
       "      <td>128</td>\n",
       "      <td>L2</td>\n",
       "      <td>Water Injection Pump - 1A</td>\n",
       "      <td>{u'sampling_size': 8192, u'timestamp': u'2016-...</td>\n",
       "      <td>[0.193336548881, 0.053697712511, 0.01051361225...</td>\n",
       "      <td>0.776067</td>\n",
       "      <td>0.178330</td>\n",
       "      <td>4.351854</td>\n",
       "      <td>1.501042</td>\n",
       "    </tr>\n",
       "    <tr>\n",
       "      <th>4</th>\n",
       "      <td>128</td>\n",
       "      <td>L2</td>\n",
       "      <td>Water Injection Pump - 1A</td>\n",
       "      <td>{u'sampling_size': 8192, u'timestamp': u'2016-...</td>\n",
       "      <td>[-0.0843585196817, 0.0716561945188, 0.02896771...</td>\n",
       "      <td>0.789510</td>\n",
       "      <td>0.181860</td>\n",
       "      <td>4.341312</td>\n",
       "      <td>1.450610</td>\n",
       "    </tr>\n",
       "  </tbody>\n",
       "</table>\n",
       "</div>"
      ],
      "text/plain": [
       "   location_id location_name               machine_name  \\\n",
       "0          128            L2  Water Injection Pump - 1A   \n",
       "1          128            L2  Water Injection Pump - 1A   \n",
       "2          128            L2  Water Injection Pump - 1A   \n",
       "3          128            L2  Water Injection Pump - 1A   \n",
       "4          128            L2  Water Injection Pump - 1A   \n",
       "\n",
       "                                        measurements  \\\n",
       "0  {u'sampling_size': 8192, u'timestamp': u'2016-...   \n",
       "1  {u'sampling_size': 8192, u'timestamp': u'2016-...   \n",
       "2  {u'sampling_size': 8192, u'timestamp': u'2016-...   \n",
       "3  {u'sampling_size': 8192, u'timestamp': u'2016-...   \n",
       "4  {u'sampling_size': 8192, u'timestamp': u'2016-...   \n",
       "\n",
       "                                         time_domain      peak       rms  \\\n",
       "0  [0.0955108190244, 0.142378048945, 0.0320730141...  0.641561  0.171748   \n",
       "1  [0.0152892355027, 0.0409164900223, -8.54867669...  0.587924  0.151245   \n",
       "2  [-0.0377654335053, 0.272838970081, 0.215688720...  0.512187  0.157736   \n",
       "3  [0.193336548881, 0.053697712511, 0.01051361225...  0.776067  0.178330   \n",
       "4  [-0.0843585196817, 0.0716561945188, 0.02896771...  0.789510  0.181860   \n",
       "\n",
       "   crest_factor       p2p  \n",
       "0      3.735475  1.278770  \n",
       "1      3.887226  1.091752  \n",
       "2      3.247112  1.001194  \n",
       "3      4.351854  1.501042  \n",
       "4      4.341312  1.450610  "
      ]
     },
     "execution_count": 16,
     "metadata": {},
     "output_type": "execute_result"
    }
   ],
   "source": [
    "df.head()"
   ]
  },
  {
   "cell_type": "code",
   "execution_count": 17,
   "metadata": {
    "collapsed": false
   },
   "outputs": [
    {
     "data": {
      "text/plain": [
       "[<matplotlib.lines.Line2D at 0x7fce82afac10>]"
      ]
     },
     "execution_count": 17,
     "metadata": {},
     "output_type": "execute_result"
    }
   ],
   "source": [
    "import matplotlib.pyplot as plt\n",
    "plt.plot(df['time_domain'][0])"
   ]
  },
  {
   "cell_type": "code",
   "execution_count": 18,
   "metadata": {
    "collapsed": false
   },
   "outputs": [
    {
     "data": {
      "image/png": "[encoded data removed]",
      "text/plain": [
       "<matplotlib.figure.Figure at 0x7fce860c1a50>"
      ]
     },
     "metadata": {},
     "output_type": "display_data"
    }
   ],
   "source": [
    "plt.show()"
   ]
  },
  {
   "cell_type": "code",
   "execution_count": 19,
   "metadata": {
    "collapsed": true
   },
   "outputs": [],
   "source": [
    "freq_domain = np.fft.fft(df['time_domain'][0])"
   ]
  },
  {
   "cell_type": "code",
   "execution_count": 20,
   "metadata": {
    "collapsed": false
   },
   "outputs": [
    {
     "data": {
      "text/plain": [
       "array([  1.46549439e-14 +0.00000000e+00j,\n",
       "        -2.09832152e-14 +3.54161145e-14j,\n",
       "        -1.92068583e-14 -1.06026299e-14j, ...,\n",
       "        -2.12404783e-14 +6.17966048e-15j,\n",
       "        -7.53473469e-15 +1.94909827e-14j,  -1.89143884e-14 -3.42780851e-14j])"
      ]
     },
     "execution_count": 20,
     "metadata": {},
     "output_type": "execute_result"
    }
   ],
   "source": [
    "freq_domain"
   ]
  },
  {
   "cell_type": "code",
   "execution_count": 22,
   "metadata": {
    "collapsed": false
   },
   "outputs": [],
   "source": [
    "df['freq_domain'] = df['time_domain'].map(lambda v: np.fft.fft(v))"
   ]
  },
  {
   "cell_type": "code",
   "execution_count": 23,
   "metadata": {
    "collapsed": false
   },
   "outputs": [
    {
     "data": {
      "text/plain": [
       "array([  1.46549439e-14 +0.00000000e+00j,\n",
       "        -2.09832152e-14 +3.54161145e-14j,\n",
       "        -1.92068583e-14 -1.06026299e-14j, ...,\n",
       "        -2.12404783e-14 +6.17966048e-15j,\n",
       "        -7.53473469e-15 +1.94909827e-14j,  -1.89143884e-14 -3.42780851e-14j])"
      ]
     },
     "execution_count": 23,
     "metadata": {},
     "output_type": "execute_result"
    }
   ],
   "source": [
    "df['freq_domain'][0]"
   ]
  },
  {
   "cell_type": "code",
   "execution_count": 24,
   "metadata": {
    "collapsed": false
   },
   "outputs": [
    {
     "name": "stderr",
     "output_type": "stream",
     "text": [
      "/home/shubham/anaconda2/lib/python2.7/site-packages/numpy/core/numeric.py:482: ComplexWarning: Casting complex values to real discards the imaginary part\n",
      "  return array(a, dtype, copy=False, order=order)\n"
     ]
    },
    {
     "data": {
      "text/plain": [
       "[<matplotlib.lines.Line2D at 0x7fce829bdcd0>]"
      ]
     },
     "execution_count": 24,
     "metadata": {},
     "output_type": "execute_result"
    }
   ],
   "source": [
    "import matplotlib.pyplot as plt\n",
    "plt.plot(df['freq_domain'][0])"
   ]
  },
  {
   "cell_type": "code",
   "execution_count": 25,
   "metadata": {
    "collapsed": false
   },
   "outputs": [
    {
     "data": {
      "image/png": "[encoded data removed]",
      "text/plain": [
       "<matplotlib.figure.Figure at 0x7fce883d3f10>"
      ]
     },
     "metadata": {},
     "output_type": "display_data"
    }
   ],
   "source": [
    "plt.show()"
   ]
  },
  {
   "cell_type": "code",
   "execution_count": 26,
   "metadata": {
    "collapsed": false
   },
   "outputs": [
    {
     "ename": "ValueError",
     "evalue": "The truth value of an array with more than one element is ambiguous. Use a.any() or a.all()",
     "output_type": "error",
     "traceback": [
      "\u001b[0;31m---------------------------------------------------------------------------\u001b[0m",
      "\u001b[0;31mValueError\u001b[0m                                Traceback (most recent call last)",
      "\u001b[0;32m<ipython-input-26-95df7a92b324>\u001b[0m in \u001b[0;36m<module>\u001b[0;34m()\u001b[0m\n\u001b[0;32m----> 1\u001b[0;31m \u001b[0mdf\u001b[0m\u001b[0;34m[\u001b[0m\u001b[0;34m'freq_domain'\u001b[0m\u001b[0;34m]\u001b[0m \u001b[0;34m=\u001b[0m \u001b[0mdf\u001b[0m\u001b[0;34m[\u001b[0m\u001b[0;34m'freq_domain'\u001b[0m\u001b[0;34m]\u001b[0m\u001b[0;34m.\u001b[0m\u001b[0mmap\u001b[0m\u001b[0;34m(\u001b[0m\u001b[0;32mlambda\u001b[0m \u001b[0mv\u001b[0m\u001b[0;34m:\u001b[0m \u001b[0mnp\u001b[0m\u001b[0;34m.\u001b[0m\u001b[0mhanning\u001b[0m\u001b[0;34m(\u001b[0m\u001b[0mv\u001b[0m\u001b[0;34m)\u001b[0m\u001b[0;34m)\u001b[0m\u001b[0;34m\u001b[0m\u001b[0m\n\u001b[0m",
      "\u001b[0;32m/home/shubham/anaconda2/lib/python2.7/site-packages/pandas/core/series.pyc\u001b[0m in \u001b[0;36mmap\u001b[0;34m(self, arg, na_action)\u001b[0m\n\u001b[1;32m   2175\u001b[0m             \u001b[0mnew_values\u001b[0m \u001b[0;34m=\u001b[0m \u001b[0malgos\u001b[0m\u001b[0;34m.\u001b[0m\u001b[0mtake_1d\u001b[0m\u001b[0;34m(\u001b[0m\u001b[0marg\u001b[0m\u001b[0;34m.\u001b[0m\u001b[0m_values\u001b[0m\u001b[0;34m,\u001b[0m \u001b[0mindexer\u001b[0m\u001b[0;34m)\u001b[0m\u001b[0;34m\u001b[0m\u001b[0m\n\u001b[1;32m   2176\u001b[0m         \u001b[0;32melse\u001b[0m\u001b[0;34m:\u001b[0m\u001b[0;34m\u001b[0m\u001b[0m\n\u001b[0;32m-> 2177\u001b[0;31m             \u001b[0mnew_values\u001b[0m \u001b[0;34m=\u001b[0m \u001b[0mmap_f\u001b[0m\u001b[0;34m(\u001b[0m\u001b[0mvalues\u001b[0m\u001b[0;34m,\u001b[0m \u001b[0marg\u001b[0m\u001b[0;34m)\u001b[0m\u001b[0;34m\u001b[0m\u001b[0m\n\u001b[0m\u001b[1;32m   2178\u001b[0m \u001b[0;34m\u001b[0m\u001b[0m\n\u001b[1;32m   2179\u001b[0m         return self._constructor(new_values,\n",
      "\u001b[0;32mpandas/src/inference.pyx\u001b[0m in \u001b[0;36mpandas.lib.map_infer (pandas/lib.c:66124)\u001b[0;34m()\u001b[0m\n",
      "\u001b[0;32m<ipython-input-26-95df7a92b324>\u001b[0m in \u001b[0;36m<lambda>\u001b[0;34m(v)\u001b[0m\n\u001b[0;32m----> 1\u001b[0;31m \u001b[0mdf\u001b[0m\u001b[0;34m[\u001b[0m\u001b[0;34m'freq_domain'\u001b[0m\u001b[0;34m]\u001b[0m \u001b[0;34m=\u001b[0m \u001b[0mdf\u001b[0m\u001b[0;34m[\u001b[0m\u001b[0;34m'freq_domain'\u001b[0m\u001b[0;34m]\u001b[0m\u001b[0;34m.\u001b[0m\u001b[0mmap\u001b[0m\u001b[0;34m(\u001b[0m\u001b[0;32mlambda\u001b[0m \u001b[0mv\u001b[0m\u001b[0;34m:\u001b[0m \u001b[0mnp\u001b[0m\u001b[0;34m.\u001b[0m\u001b[0mhanning\u001b[0m\u001b[0;34m(\u001b[0m\u001b[0mv\u001b[0m\u001b[0;34m)\u001b[0m\u001b[0;34m)\u001b[0m\u001b[0;34m\u001b[0m\u001b[0m\n\u001b[0m",
      "\u001b[0;32m/home/shubham/anaconda2/lib/python2.7/site-packages/numpy/lib/function_base.pyc\u001b[0m in \u001b[0;36mhanning\u001b[0;34m(M)\u001b[0m\n\u001b[1;32m   2877\u001b[0m \u001b[0;34m\u001b[0m\u001b[0m\n\u001b[1;32m   2878\u001b[0m     \"\"\"\n\u001b[0;32m-> 2879\u001b[0;31m     \u001b[0;32mif\u001b[0m \u001b[0mM\u001b[0m \u001b[0;34m<\u001b[0m \u001b[0;36m1\u001b[0m\u001b[0;34m:\u001b[0m\u001b[0;34m\u001b[0m\u001b[0m\n\u001b[0m\u001b[1;32m   2880\u001b[0m         \u001b[0;32mreturn\u001b[0m \u001b[0marray\u001b[0m\u001b[0;34m(\u001b[0m\u001b[0;34m[\u001b[0m\u001b[0;34m]\u001b[0m\u001b[0;34m)\u001b[0m\u001b[0;34m\u001b[0m\u001b[0m\n\u001b[1;32m   2881\u001b[0m     \u001b[0;32mif\u001b[0m \u001b[0mM\u001b[0m \u001b[0;34m==\u001b[0m \u001b[0;36m1\u001b[0m\u001b[0;34m:\u001b[0m\u001b[0;34m\u001b[0m\u001b[0m\n",
      "\u001b[0;31mValueError\u001b[0m: The truth value of an array with more than one element is ambiguous. Use a.any() or a.all()"
     ]
    }
   ],
   "source": [
    "df['freq_domain'] = df['freq_domain'].map(lambda v: np.hanning(v))"
   ]
  },
  {
   "cell_type": "code",
   "execution_count": null,
   "metadata": {
    "collapsed": true
   },
   "outputs": [],
   "source": []
  }
 ],
 "metadata": {
  "kernelspec": {
   "display_name": "Python 3",
   "language": "python",
   "name": "python3"
  },
  "language_info": {
   "codemirror_mode": {
    "name": "ipython",
    "version": 3
   },
   "file_extension": ".py",
   "mimetype": "text/x-python",
   "name": "python",
   "nbconvert_exporter": "python",
   "pygments_lexer": "ipython3",
   "version": "3.5.2"
  }
 },
 "nbformat": 4,
 "nbformat_minor": 2
}
